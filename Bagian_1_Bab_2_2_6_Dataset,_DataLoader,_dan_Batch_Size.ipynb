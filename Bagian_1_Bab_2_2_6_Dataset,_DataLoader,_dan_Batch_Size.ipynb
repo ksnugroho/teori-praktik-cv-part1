{
  "nbformat": 4,
  "nbformat_minor": 0,
  "metadata": {
    "colab": {
      "provenance": [],
      "gpuType": "T4",
      "authorship_tag": "ABX9TyPHPu+pcZ4scim51KFzHDgu",
      "include_colab_link": true
    },
    "kernelspec": {
      "name": "python3",
      "display_name": "Python 3"
    },
    "language_info": {
      "name": "python"
    },
    "accelerator": "GPU"
  },
  "cells": [
    {
      "cell_type": "markdown",
      "metadata": {
        "id": "view-in-github",
        "colab_type": "text"
      },
      "source": [
        "<a href=\"https://colab.research.google.com/github/ksnugroho/teori-praktik-cv-part1/blob/main/Bagian_1_Bab_2_2_6_Dataset%2C_DataLoader%2C_dan_Batch_Size.ipynb\" target=\"_parent\"><img src=\"https://colab.research.google.com/assets/colab-badge.svg\" alt=\"Open In Colab\"/></a>"
      ]
    },
    {
      "cell_type": "code",
      "execution_count": 1,
      "metadata": {
        "id": "-iZUlduFPFLE"
      },
      "outputs": [],
      "source": [
        "import torch\n",
        "import torch.nn as nn\n",
        "from torch.optim import SGD\n",
        "from torch.utils.data import Dataset, DataLoader"
      ]
    },
    {
      "cell_type": "code",
      "source": [
        "x = [[1,2],[3,4],[5,6],[7,8]]\n",
        "y = [[3],[7],[11],[15]]"
      ],
      "metadata": {
        "id": "lcE7lVD4PuQz"
      },
      "execution_count": 2,
      "outputs": []
    },
    {
      "cell_type": "code",
      "source": [
        "X = torch.tensor(x).float()\n",
        "Y = torch.tensor(y).float()"
      ],
      "metadata": {
        "id": "z5Ko-FFZPvaP"
      },
      "execution_count": 3,
      "outputs": []
    },
    {
      "cell_type": "code",
      "source": [
        "device = 'cuda' if torch.cuda.is_available() else 'cpu'\n",
        "X = X.to(device)\n",
        "Y = Y.to(device)"
      ],
      "metadata": {
        "id": "WEEFVE-XP1KG"
      },
      "execution_count": 4,
      "outputs": []
    },
    {
      "cell_type": "code",
      "source": [
        "class MyDataset(Dataset):\n",
        "   def __init__(self, X, Y):\n",
        "      self.X = X\n",
        "      self.Y = Y\n",
        "\n",
        "   def __len__(self):\n",
        "      return len(self.X)\n",
        "\n",
        "   def __getitem__(self, idx):\n",
        "      return self.X[idx], self.Y[idx]"
      ],
      "metadata": {
        "id": "qPpUtV3EP2wq"
      },
      "execution_count": 5,
      "outputs": []
    },
    {
      "cell_type": "code",
      "source": [
        "ds = MyDataset(X, Y)"
      ],
      "metadata": {
        "id": "urQo4WvyP6Fc"
      },
      "execution_count": 6,
      "outputs": []
    },
    {
      "cell_type": "code",
      "source": [
        "dl = DataLoader(ds, batch_size=2, shuffle=True)"
      ],
      "metadata": {
        "id": "M7hHtHrZP9r9"
      },
      "execution_count": 7,
      "outputs": []
    },
    {
      "cell_type": "code",
      "source": [
        "class MyNeuralNet(nn.Module):\n",
        "    def __init__(self):\n",
        "        super().__init__()\n",
        "        self.input_to_hidden_layer = nn.Linear(2, 8)\n",
        "        self.hidden_layer_activation = nn.ReLU()\n",
        "        self.hidden_to_output_layer = nn.Linear(8, 1)\n",
        "\n",
        "    def forward(self, x):\n",
        "        x = self.input_to_hidden_layer(x)\n",
        "        x = self.hidden_layer_activation(x)\n",
        "        x = self.hidden_to_output_layer(x)\n",
        "        return x"
      ],
      "metadata": {
        "id": "yCU5WnR9P_WS"
      },
      "execution_count": 8,
      "outputs": []
    },
    {
      "cell_type": "code",
      "source": [
        "import time\n",
        "\n",
        "mynet = MyNeuralNet().to(device)\n",
        "\n",
        "loss_func = nn.MSELoss()\n",
        "opt = SGD(mynet.parameters(), lr=0.001)\n",
        "\n",
        "loss_history = []\n",
        "\n",
        "start = time.time()\n",
        "for _ in range(50):\n",
        "    for x, y in dl:\n",
        "        opt.zero_grad()\n",
        "        loss_value = loss_func(mynet(x), y)\n",
        "        loss_value.backward()\n",
        "        opt.step()\n",
        "        loss_history.append(loss_value.item())\n",
        "end = time.time()\n",
        "\n",
        "print(\"Training time:\", end - start)"
      ],
      "metadata": {
        "colab": {
          "base_uri": "https://localhost:8080/"
        },
        "id": "F004iNkoQE_-",
        "outputId": "da9ea531-6e09-474f-d357-a40087eb26fc"
      },
      "execution_count": 9,
      "outputs": [
        {
          "output_type": "stream",
          "name": "stdout",
          "text": [
            "Training time: 0.8453948497772217\n"
          ]
        }
      ]
    },
    {
      "cell_type": "code",
      "source": [
        "val_x = [[10,11]]"
      ],
      "metadata": {
        "id": "5acnwGd3QOfP"
      },
      "execution_count": 10,
      "outputs": []
    },
    {
      "cell_type": "code",
      "source": [
        "val_x = torch.tensor(val_x).float().to(device)"
      ],
      "metadata": {
        "id": "tC8DRMXkQSRq"
      },
      "execution_count": 11,
      "outputs": []
    },
    {
      "cell_type": "code",
      "source": [
        "mynet(val_x)"
      ],
      "metadata": {
        "colab": {
          "base_uri": "https://localhost:8080/"
        },
        "id": "itkhweSjQUb9",
        "outputId": "2d67a667-0b27-4f82-f97d-83f41241f36a"
      },
      "execution_count": 12,
      "outputs": [
        {
          "output_type": "execute_result",
          "data": {
            "text/plain": [
              "tensor([[20.6166]], device='cuda:0', grad_fn=<AddmmBackward0>)"
            ]
          },
          "metadata": {},
          "execution_count": 12
        }
      ]
    }
  ]
}