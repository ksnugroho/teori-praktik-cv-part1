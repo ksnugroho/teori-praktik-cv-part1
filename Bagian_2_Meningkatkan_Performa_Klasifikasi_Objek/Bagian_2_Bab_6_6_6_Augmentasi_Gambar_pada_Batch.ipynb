{
  "nbformat": 4,
  "nbformat_minor": 0,
  "metadata": {
    "colab": {
      "provenance": [],
      "toc_visible": true,
      "authorship_tag": "ABX9TyN6ePKNd4T9aW3JOYQpRHhh",
      "include_colab_link": true
    },
    "kernelspec": {
      "name": "python3",
      "display_name": "Python 3"
    },
    "language_info": {
      "name": "python"
    }
  },
  "cells": [
    {
      "cell_type": "markdown",
      "metadata": {
        "id": "view-in-github",
        "colab_type": "text"
      },
      "source": [
        "<a href=\"https://colab.research.google.com/github/ksnugroho/teori-praktik-cv-part1/blob/main/Bagian_2_Bab_6_6_6_Augmentasi_Gambar_pada_Batch.ipynb\" target=\"_parent\"><img src=\"https://colab.research.google.com/assets/colab-badge.svg\" alt=\"Open In Colab\"/></a>"
      ]
    },
    {
      "cell_type": "code",
      "execution_count": null,
      "metadata": {
        "id": "PwTILy3I1zTJ"
      },
      "outputs": [],
      "source": [
        "import matplotlib.pyplot as plt\n",
        "from torchvision import datasets\n",
        "from imgaug import augmenters as iaa\n",
        "import torch\n",
        "\n",
        "def to_numpy(tensor):\n",
        "    return tensor.cpu().detach().numpy()"
      ]
    },
    {
      "cell_type": "markdown",
      "source": [
        "# Mengunduh Dataset"
      ],
      "metadata": {
        "id": "ywuUALaP2X5_"
      }
    },
    {
      "cell_type": "code",
      "source": [
        "data_folder = './data/FMNIST'\n",
        "\n",
        "train_data = datasets.FashionMNIST(data_folder, download=True, train=True)\n",
        "tr_images, tr_targets = train_data.data, train_data.targets"
      ],
      "metadata": {
        "colab": {
          "base_uri": "https://localhost:8080/"
        },
        "id": "Z5fAxeW72PBh",
        "outputId": "0fd18579-4a19-4242-d8e9-5ac1ad6001d5"
      },
      "execution_count": null,
      "outputs": [
        {
          "output_type": "stream",
          "name": "stdout",
          "text": [
            "Downloading http://fashion-mnist.s3-website.eu-central-1.amazonaws.com/train-images-idx3-ubyte.gz\n",
            "Downloading http://fashion-mnist.s3-website.eu-central-1.amazonaws.com/train-images-idx3-ubyte.gz to ./data/FMNIST/FashionMNIST/raw/train-images-idx3-ubyte.gz\n"
          ]
        },
        {
          "output_type": "stream",
          "name": "stderr",
          "text": [
            "100%|██████████| 26.4M/26.4M [00:01<00:00, 15.8MB/s]\n"
          ]
        },
        {
          "output_type": "stream",
          "name": "stdout",
          "text": [
            "Extracting ./data/FMNIST/FashionMNIST/raw/train-images-idx3-ubyte.gz to ./data/FMNIST/FashionMNIST/raw\n",
            "\n",
            "Downloading http://fashion-mnist.s3-website.eu-central-1.amazonaws.com/train-labels-idx1-ubyte.gz\n",
            "Downloading http://fashion-mnist.s3-website.eu-central-1.amazonaws.com/train-labels-idx1-ubyte.gz to ./data/FMNIST/FashionMNIST/raw/train-labels-idx1-ubyte.gz\n"
          ]
        },
        {
          "output_type": "stream",
          "name": "stderr",
          "text": [
            "100%|██████████| 29.5k/29.5k [00:00<00:00, 276kB/s]\n"
          ]
        },
        {
          "output_type": "stream",
          "name": "stdout",
          "text": [
            "Extracting ./data/FMNIST/FashionMNIST/raw/train-labels-idx1-ubyte.gz to ./data/FMNIST/FashionMNIST/raw\n",
            "\n",
            "Downloading http://fashion-mnist.s3-website.eu-central-1.amazonaws.com/t10k-images-idx3-ubyte.gz\n",
            "Downloading http://fashion-mnist.s3-website.eu-central-1.amazonaws.com/t10k-images-idx3-ubyte.gz to ./data/FMNIST/FashionMNIST/raw/t10k-images-idx3-ubyte.gz\n"
          ]
        },
        {
          "output_type": "stream",
          "name": "stderr",
          "text": [
            "100%|██████████| 4.42M/4.42M [00:00<00:00, 5.09MB/s]\n"
          ]
        },
        {
          "output_type": "stream",
          "name": "stdout",
          "text": [
            "Extracting ./data/FMNIST/FashionMNIST/raw/t10k-images-idx3-ubyte.gz to ./data/FMNIST/FashionMNIST/raw\n",
            "\n",
            "Downloading http://fashion-mnist.s3-website.eu-central-1.amazonaws.com/t10k-labels-idx1-ubyte.gz\n",
            "Downloading http://fashion-mnist.s3-website.eu-central-1.amazonaws.com/t10k-labels-idx1-ubyte.gz to ./data/FMNIST/FashionMNIST/raw/t10k-labels-idx1-ubyte.gz\n"
          ]
        },
        {
          "output_type": "stream",
          "name": "stderr",
          "text": [
            "100%|██████████| 5.15k/5.15k [00:00<00:00, 4.99MB/s]"
          ]
        },
        {
          "output_type": "stream",
          "name": "stdout",
          "text": [
            "Extracting ./data/FMNIST/FashionMNIST/raw/t10k-labels-idx1-ubyte.gz to ./data/FMNIST/FashionMNIST/raw\n",
            "\n"
          ]
        },
        {
          "output_type": "stream",
          "name": "stderr",
          "text": [
            "\n"
          ]
        }
      ]
    },
    {
      "cell_type": "markdown",
      "source": [
        "# Menentukan Augmentasi"
      ],
      "metadata": {
        "id": "aE0PhlMy2nnl"
      }
    },
    {
      "cell_type": "code",
      "source": [
        "aug = iaa.Sequential([\n",
        "    iaa.Affine(translate_px={\"x\": (-10, 10)}, mode=\"constant\")\n",
        "])"
      ],
      "metadata": {
        "id": "YHmrALk12e6j"
      },
      "execution_count": null,
      "outputs": []
    },
    {
      "cell_type": "markdown",
      "source": [
        "# Augmentasi pada 32 gambar satu per satu"
      ],
      "metadata": {
        "id": "cA9Gvl142bA1"
      }
    },
    {
      "cell_type": "code",
      "source": [
        "# Skenario 1\n",
        "# Hitung waktu yang diperlukan untuk augmentasi pada setiap gambar secara individual\n",
        "%%time\n",
        "for i in range(32):\n",
        "    aug.augment_image(to_numpy(tr_images[i]))"
      ],
      "metadata": {
        "colab": {
          "base_uri": "https://localhost:8080/"
        },
        "id": "aDDaRfqr2pty",
        "outputId": "ff228b70-78e8-4cbc-edd3-dac383e8cbb8"
      },
      "execution_count": null,
      "outputs": [
        {
          "output_type": "stream",
          "name": "stdout",
          "text": [
            "CPU times: user 37.3 ms, sys: 3.78 ms, total: 41.1 ms\n",
            "Wall time: 82.8 ms\n"
          ]
        }
      ]
    },
    {
      "cell_type": "code",
      "source": [
        "# Skenario 2\n",
        "# Hitung waktu yang diperlukan untuk augmentasi pada seluruh batch gambar secara bersamaan\n",
        "# Contoh: batch size 32\n",
        "%%time\n",
        "aug.augment_images(to_numpy(tr_images[:32]))"
      ],
      "metadata": {
        "colab": {
          "base_uri": "https://localhost:8080/"
        },
        "id": "XOWcsce92tsy",
        "outputId": "c9b926f5-f3b7-4827-b512-92f6e8ac71fe"
      },
      "execution_count": null,
      "outputs": [
        {
          "output_type": "stream",
          "name": "stdout",
          "text": [
            "CPU times: user 18.7 ms, sys: 1.12 ms, total: 19.8 ms\n",
            "Wall time: 31.2 ms\n"
          ]
        },
        {
          "output_type": "execute_result",
          "data": {
            "text/plain": [
              "array([[[  0,   0,   0, ...,   0,   0,   0],\n",
              "        [  0,   0,   0, ...,   0,   0,   0],\n",
              "        [  0,   0,   0, ...,   0,   0,   0],\n",
              "        ...,\n",
              "        [  0,   0,   0, ...,   0,   0,   0],\n",
              "        [  0,   0,   0, ...,   0,   0,   0],\n",
              "        [  0,   0,   0, ...,   0,   0,   0]],\n",
              "\n",
              "       [[  0,   0,  41, ...,   0,   0,   0],\n",
              "        [136, 219, 216, ...,   0,   0,   0],\n",
              "        [224, 212, 203, ...,   0,   0,   0],\n",
              "        ...,\n",
              "        [172, 210, 203, ...,   0,   0,   0],\n",
              "        [188, 221, 214, ...,   0,   0,   0],\n",
              "        [139, 146, 130, ...,   0,   0,   0]],\n",
              "\n",
              "       [[118,  24,   0, ...,   0,   0,   0],\n",
              "        [212, 205, 185, ...,   0,   0,   0],\n",
              "        [ 76, 199, 225, ...,   0,   0,   0],\n",
              "        ...,\n",
              "        [100,  91,  91, ...,   0,   0,   0],\n",
              "        [ 73,  93, 104, ...,   0,   0,   0],\n",
              "        [  0,   0,  18, ...,   0,   0,   0]],\n",
              "\n",
              "       ...,\n",
              "\n",
              "       [[  0,   0,   0, ...,   0,   0,   0],\n",
              "        [  0,   0,   0, ...,   0,   0,   0],\n",
              "        [  0,   0,   0, ...,   0,   0,   0],\n",
              "        ...,\n",
              "        [  0,   0,   0, ...,   0,   0,   0],\n",
              "        [  0,   0,   0, ...,   0,   0,   0],\n",
              "        [  0,   0,   0, ...,   0,   0,   0]],\n",
              "\n",
              "       [[  0,   0,   0, ...,   0,   0,   0],\n",
              "        [  0,   0,   0, ...,   0,   0,   0],\n",
              "        [  0,   0,   0, ...,   0,   0,   0],\n",
              "        ...,\n",
              "        [  0,   0,   0, ...,   0,   0,   0],\n",
              "        [  0,   0,   0, ...,   0,   0,   0],\n",
              "        [  0,   0,   0, ...,   0,   0,   0]],\n",
              "\n",
              "       [[  0,   0,   0, ...,   0,   0,   0],\n",
              "        [  0,   0,   0, ...,   0,   0,   0],\n",
              "        [  0,   0,   0, ...,   1,   0,   0],\n",
              "        ...,\n",
              "        [  0,   0,   0, ..., 124,   0,   0],\n",
              "        [  0,   0,   0, ...,  90,   0,   0],\n",
              "        [  0,   0,   0, ...,   0,   0,   0]]], dtype=uint8)"
            ]
          },
          "metadata": {},
          "execution_count": 5
        }
      ]
    },
    {
      "cell_type": "markdown",
      "source": [
        "# Implementasi Dataset dengan Augmentasi Batch"
      ],
      "metadata": {
        "id": "Kcr23YRF3dqQ"
      }
    },
    {
      "cell_type": "code",
      "source": [
        "from torch.utils.data import Dataset\n",
        "\n",
        "class FMNISTDataset(Dataset):\n",
        "    def __init__(self, x, y, aug=None):\n",
        "        self.x = x\n",
        "        self.y = y\n",
        "        self.aug = aug\n",
        "\n",
        "    def __getitem__(self, ix):\n",
        "        x, y = self.x[ix], self.y[ix]\n",
        "        return x.numpy(), y.item()\n",
        "\n",
        "    def __len__(self):\n",
        "        return len(self.x)\n",
        "\n",
        "    def collate_fn(self, batch):\n",
        "        ims, classes = list(zip(*batch))\n",
        "        if self.aug:\n",
        "            ims = self.aug.augment_images(ims)\n",
        "        ims = np.array(ims)\n",
        "        ims = torch.tensor(ims)[:,None,:,:].to(device)/255.\n",
        "        classes = torch.tensor(classes).to(device)\n",
        "        return ims, classes"
      ],
      "metadata": {
        "id": "RQwd0zp43TTk"
      },
      "execution_count": null,
      "outputs": []
    },
    {
      "cell_type": "code",
      "source": [
        "from torch.utils.data import DataLoader\n",
        "\n",
        "train = FMNISTDataset(tr_images, tr_targets, aug=aug)\n",
        "train_dl = DataLoader(train, batch_size=32, collate_fn=train.collate_fn, shuffle=True)"
      ],
      "metadata": {
        "id": "Vmabk5Z43pHE"
      },
      "execution_count": null,
      "outputs": []
    }
  ]
}